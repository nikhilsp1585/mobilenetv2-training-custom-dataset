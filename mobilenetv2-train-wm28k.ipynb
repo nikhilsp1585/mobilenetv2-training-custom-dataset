{
  "cells": [
    {
      "cell_type": "code",
      "execution_count": 3,
      "id": "b186ce06",
      "metadata": {
        "id": "b186ce06"
      },
      "outputs": [],
      "source": [
        "import numpy as np\n",
        "import pandas as pd\n",
        "from pathlib import Path\n",
        "import matplotlib.pyplot as plt\n",
        "import tensorflow as tf\n",
        "import imageio"
      ]
    },
    {
      "cell_type": "markdown",
      "source": [
        "Preprocessing\n",
        "\n",
        "- Resolve the image paths\n",
        "- Extract the labels from the path\n",
        "- Move the data -> pandas dataframe\n",
        "- Generate batcches of tensor image data with real-time data augmentation using ImageDataGenerator"
      ],
      "metadata": {
        "id": "u03VNMUYjL_e"
      },
      "id": "u03VNMUYjL_e"
    },
    {
      "cell_type": "markdown",
      "source": [
        "Data Retrieval"
      ],
      "metadata": {
        "id": "9kT2bpSrjsub"
      },
      "id": "9kT2bpSrjsub"
    },
    {
      "cell_type": "code",
      "source": [
        "dataset_path = Path(\"\")"
      ],
      "metadata": {
        "id": "GcpRZf2OiMeZ"
      },
      "id": "GcpRZf2OiMeZ",
      "execution_count": 3,
      "outputs": []
    },
    {
      "cell_type": "code",
      "source": [],
      "metadata": {
        "id": "NwrRoITBi1mt"
      },
      "id": "NwrRoITBi1mt",
      "execution_count": null,
      "outputs": []
    }
  ],
  "metadata": {
    "kernelspec": {
      "display_name": "Python 3",
      "name": "python3"
    },
    "language_info": {
      "codemirror_mode": {
        "name": "ipython",
        "version": 3
      },
      "file_extension": ".py",
      "mimetype": "text/x-python",
      "name": "python",
      "nbconvert_exporter": "python",
      "pygments_lexer": "ipython3",
      "version": "3.12.3"
    },
    "colab": {
      "provenance": [],
      "gpuType": "V28"
    },
    "accelerator": "TPU"
  },
  "nbformat": 4,
  "nbformat_minor": 5
}